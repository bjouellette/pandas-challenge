{
 "cells": [
  {
   "cell_type": "markdown",
   "metadata": {},
   "source": [
    "### Note\n",
    "* Instructions have been included for each segment. You do not have to follow them exactly, but they are included to help you think through the steps."
   ]
  },
  {
   "cell_type": "code",
   "execution_count": 45,
   "metadata": {},
   "outputs": [],
   "source": [
    "# Dependencies and Setup\n",
    "import pandas as pd\n",
    "\n",
    "# File to Load (Remember to Change These)\n",
    "file_to_load = \"Resources/purchase_data.csv\"\n",
    "\n",
    "# Read Purchasing File and store into Pandas data frame\n",
    "purchase_data_df = pd.read_csv(file_to_load)"
   ]
  },
  {
   "cell_type": "markdown",
   "metadata": {},
   "source": [
    "## Player Count"
   ]
  },
  {
   "cell_type": "markdown",
   "metadata": {},
   "source": [
    "* Display the total number of players\n"
   ]
  },
  {
   "cell_type": "code",
   "execution_count": 46,
   "metadata": {},
   "outputs": [
    {
     "data": {
      "text/html": [
       "<div>\n",
       "<style scoped>\n",
       "    .dataframe tbody tr th:only-of-type {\n",
       "        vertical-align: middle;\n",
       "    }\n",
       "\n",
       "    .dataframe tbody tr th {\n",
       "        vertical-align: top;\n",
       "    }\n",
       "\n",
       "    .dataframe thead th {\n",
       "        text-align: right;\n",
       "    }\n",
       "</style>\n",
       "<table border=\"1\" class=\"dataframe\">\n",
       "  <thead>\n",
       "    <tr style=\"text-align: right;\">\n",
       "      <th></th>\n",
       "      <th>Total Players</th>\n",
       "    </tr>\n",
       "  </thead>\n",
       "  <tbody>\n",
       "    <tr>\n",
       "      <th>0</th>\n",
       "      <td>576</td>\n",
       "    </tr>\n",
       "  </tbody>\n",
       "</table>\n",
       "</div>"
      ],
      "text/plain": [
       "   Total Players\n",
       "0            576"
      ]
     },
     "execution_count": 46,
     "metadata": {},
     "output_type": "execute_result"
    }
   ],
   "source": [
    "#Use length of screen name to find total players and then create a data frame\"\n",
    "total_players = len(purchase_data_df[\"SN\"].value_counts())\n",
    "total = pd.DataFrame({\"Total Players\":[total_players]})\n",
    "total"
   ]
  },
  {
   "cell_type": "markdown",
   "metadata": {},
   "source": [
    "## Purchasing Analysis (Total)"
   ]
  },
  {
   "cell_type": "markdown",
   "metadata": {},
   "source": [
    "* Run basic calculations to obtain number of unique items, average price, etc.\n",
    "\n",
    "\n",
    "* Create a summary data frame to hold the results\n",
    "\n",
    "\n",
    "* Optional: give the displayed data cleaner formatting\n",
    "\n",
    "\n",
    "* Display the summary data frame\n"
   ]
  },
  {
   "cell_type": "code",
   "execution_count": 49,
   "metadata": {
    "scrolled": true
   },
   "outputs": [
    {
     "data": {
      "text/html": [
       "<style  type=\"text/css\" >\n",
       "</style><table id=\"T_b285c268_df21_11ea_89c4_f01898f3f618\" ><thead>    <tr>        <th class=\"blank level0\" ></th>        <th class=\"col_heading level0 col0\" >Number of Unique Items</th>        <th class=\"col_heading level0 col1\" >Average Price</th>        <th class=\"col_heading level0 col2\" >Number of Purchases</th>        <th class=\"col_heading level0 col3\" >Total Revenue</th>    </tr></thead><tbody>\n",
       "                <tr>\n",
       "                        <th id=\"T_b285c268_df21_11ea_89c4_f01898f3f618level0_row0\" class=\"row_heading level0 row0\" >0</th>\n",
       "                        <td id=\"T_b285c268_df21_11ea_89c4_f01898f3f618row0_col0\" class=\"data row0 col0\" >179</td>\n",
       "                        <td id=\"T_b285c268_df21_11ea_89c4_f01898f3f618row0_col1\" class=\"data row0 col1\" >$3.05</td>\n",
       "                        <td id=\"T_b285c268_df21_11ea_89c4_f01898f3f618row0_col2\" class=\"data row0 col2\" >780</td>\n",
       "                        <td id=\"T_b285c268_df21_11ea_89c4_f01898f3f618row0_col3\" class=\"data row0 col3\" >$2,379.77</td>\n",
       "            </tr>\n",
       "    </tbody></table>"
      ],
      "text/plain": [
       "<pandas.io.formats.style.Styler at 0x7fcb1e7f1978>"
      ]
     },
     "execution_count": 49,
     "metadata": {},
     "output_type": "execute_result"
    }
   ],
   "source": [
    "#Create variables for unique items, avg price, purchases and revenue\n",
    "unique_items = len((purchase_data_df[\"Item ID\"]).unique())\n",
    "avg_price = (purchase_data_df[\"Price\"]).mean()\n",
    "purchases = (purchase_data_df[\"Purchase ID\"]).count()\n",
    "total_revenue = (purchase_data_df[\"Price\"]).sum()\n",
    "#Create df with vaules\n",
    "summary_df = pd.DataFrame({\"Number of Unique Items\":[unique_items],\n",
    "                         \"Average Price\":[avg_price],\n",
    "                         \"Number of Purchases\":[purchases],\n",
    "                         \"Total Revenue\":[total_revenue]})\n",
    "summary_df.style.format ({'Average Price': \"${:,.2f}\",\n",
    "                        'Total Revenue':'${:,.2f}'})"
   ]
  },
  {
   "cell_type": "markdown",
   "metadata": {},
   "source": [
    "## Gender Demographics"
   ]
  },
  {
   "cell_type": "markdown",
   "metadata": {},
   "source": [
    "* Percentage and Count of Male Players\n",
    "\n",
    "\n",
    "* Percentage and Count of Female Players\n",
    "\n",
    "\n",
    "* Percentage and Count of Other / Non-Disclosed\n",
    "\n",
    "\n"
   ]
  },
  {
   "cell_type": "code",
   "execution_count": 50,
   "metadata": {},
   "outputs": [
    {
     "data": {
      "text/html": [
       "<style  type=\"text/css\" >\n",
       "</style><table id=\"T_b56387c2_df21_11ea_bfe5_f01898f3f618\" ><thead>    <tr>        <th class=\"blank level0\" ></th>        <th class=\"col_heading level0 col0\" >Total Count</th>        <th class=\"col_heading level0 col1\" >Percentage of Players</th>    </tr></thead><tbody>\n",
       "                <tr>\n",
       "                        <th id=\"T_b56387c2_df21_11ea_bfe5_f01898f3f618level0_row0\" class=\"row_heading level0 row0\" >Male</th>\n",
       "                        <td id=\"T_b56387c2_df21_11ea_bfe5_f01898f3f618row0_col0\" class=\"data row0 col0\" >484</td>\n",
       "                        <td id=\"T_b56387c2_df21_11ea_bfe5_f01898f3f618row0_col1\" class=\"data row0 col1\" >84.03%</td>\n",
       "            </tr>\n",
       "            <tr>\n",
       "                        <th id=\"T_b56387c2_df21_11ea_bfe5_f01898f3f618level0_row1\" class=\"row_heading level0 row1\" >Female</th>\n",
       "                        <td id=\"T_b56387c2_df21_11ea_bfe5_f01898f3f618row1_col0\" class=\"data row1 col0\" >81</td>\n",
       "                        <td id=\"T_b56387c2_df21_11ea_bfe5_f01898f3f618row1_col1\" class=\"data row1 col1\" >14.06%</td>\n",
       "            </tr>\n",
       "            <tr>\n",
       "                        <th id=\"T_b56387c2_df21_11ea_bfe5_f01898f3f618level0_row2\" class=\"row_heading level0 row2\" >Other / Non-Disclosed</th>\n",
       "                        <td id=\"T_b56387c2_df21_11ea_bfe5_f01898f3f618row2_col0\" class=\"data row2 col0\" >11</td>\n",
       "                        <td id=\"T_b56387c2_df21_11ea_bfe5_f01898f3f618row2_col1\" class=\"data row2 col1\" >1.91%</td>\n",
       "            </tr>\n",
       "    </tbody></table>"
      ],
      "text/plain": [
       "<pandas.io.formats.style.Styler at 0x7fcb1e817048>"
      ]
     },
     "execution_count": 50,
     "metadata": {},
     "output_type": "execute_result"
    }
   ],
   "source": [
    "#Pull all gender stats\n",
    "gender_stats = purchase_data_df.groupby(\"Gender\")\n",
    "\n",
    "#percentage of players\n",
    "percent_players = total_gender / total_players * 100\n",
    "\n",
    "#Count screen names by gender\n",
    "#https://pandas.pydata.org/pandas-docs/stable/reference/api/pandas.DataFrame.nunique.html\n",
    "total_gender = gender_stats.nunique()[\"SN\"]\n",
    "\n",
    "\n",
    "#create dataframe for gender demographics\n",
    "gender_dem_df = pd.DataFrame({\"Total Count\": total_gender, \"Percentage of Players\": percent_players})\n",
    "\n",
    "gender_dem_df.index.name = None\n",
    "\n",
    "gender_dem_df.sort_values([\"Total Count\"],ascending=False).style.format({\"Percentage of Players\":\"{:.2f}%\"})"
   ]
  },
  {
   "cell_type": "markdown",
   "metadata": {},
   "source": [
    "\n",
    "## Purchasing Analysis (Gender)"
   ]
  },
  {
   "cell_type": "markdown",
   "metadata": {},
   "source": [
    "* Run basic calculations to obtain purchase count, avg. purchase price, avg. purchase total per person etc. by gender\n",
    "\n",
    "\n",
    "\n",
    "\n",
    "* Create a summary data frame to hold the results\n",
    "\n",
    "\n",
    "* Optional: give the displayed data cleaner formatting\n",
    "\n",
    "\n",
    "* Display the summary data frame"
   ]
  },
  {
   "cell_type": "code",
   "execution_count": 63,
   "metadata": {},
   "outputs": [
    {
     "data": {
      "text/html": [
       "<style  type=\"text/css\" >\n",
       "</style><table id=\"T_d66f9310_df22_11ea_afd2_f01898f3f618\" ><thead>    <tr>        <th class=\"blank level0\" ></th>        <th class=\"col_heading level0 col0\" >Purchase Count</th>        <th class=\"col_heading level0 col1\" >Average Purchase Price</th>        <th class=\"col_heading level0 col2\" >Total Purchase Value</th>        <th class=\"col_heading level0 col3\" >Avg Total Purchase per Person</th>    </tr>    <tr>        <th class=\"index_name level0\" >Gender</th>        <th class=\"blank\" ></th>        <th class=\"blank\" ></th>        <th class=\"blank\" ></th>        <th class=\"blank\" ></th>    </tr></thead><tbody>\n",
       "                <tr>\n",
       "                        <th id=\"T_d66f9310_df22_11ea_afd2_f01898f3f618level0_row0\" class=\"row_heading level0 row0\" >Female</th>\n",
       "                        <td id=\"T_d66f9310_df22_11ea_afd2_f01898f3f618row0_col0\" class=\"data row0 col0\" >113</td>\n",
       "                        <td id=\"T_d66f9310_df22_11ea_afd2_f01898f3f618row0_col1\" class=\"data row0 col1\" >$3.20</td>\n",
       "                        <td id=\"T_d66f9310_df22_11ea_afd2_f01898f3f618row0_col2\" class=\"data row0 col2\" >$361.94</td>\n",
       "                        <td id=\"T_d66f9310_df22_11ea_afd2_f01898f3f618row0_col3\" class=\"data row0 col3\" >$4.47</td>\n",
       "            </tr>\n",
       "            <tr>\n",
       "                        <th id=\"T_d66f9310_df22_11ea_afd2_f01898f3f618level0_row1\" class=\"row_heading level0 row1\" >Male</th>\n",
       "                        <td id=\"T_d66f9310_df22_11ea_afd2_f01898f3f618row1_col0\" class=\"data row1 col0\" >652</td>\n",
       "                        <td id=\"T_d66f9310_df22_11ea_afd2_f01898f3f618row1_col1\" class=\"data row1 col1\" >$3.02</td>\n",
       "                        <td id=\"T_d66f9310_df22_11ea_afd2_f01898f3f618row1_col2\" class=\"data row1 col2\" >$1,967.64</td>\n",
       "                        <td id=\"T_d66f9310_df22_11ea_afd2_f01898f3f618row1_col3\" class=\"data row1 col3\" >$4.07</td>\n",
       "            </tr>\n",
       "            <tr>\n",
       "                        <th id=\"T_d66f9310_df22_11ea_afd2_f01898f3f618level0_row2\" class=\"row_heading level0 row2\" >Other / Non-Disclosed</th>\n",
       "                        <td id=\"T_d66f9310_df22_11ea_afd2_f01898f3f618row2_col0\" class=\"data row2 col0\" >15</td>\n",
       "                        <td id=\"T_d66f9310_df22_11ea_afd2_f01898f3f618row2_col1\" class=\"data row2 col1\" >$3.35</td>\n",
       "                        <td id=\"T_d66f9310_df22_11ea_afd2_f01898f3f618row2_col2\" class=\"data row2 col2\" >$50.19</td>\n",
       "                        <td id=\"T_d66f9310_df22_11ea_afd2_f01898f3f618row2_col3\" class=\"data row2 col3\" >$4.56</td>\n",
       "            </tr>\n",
       "    </tbody></table>"
      ],
      "text/plain": [
       "<pandas.io.formats.style.Styler at 0x7fcb1e1f6cf8>"
      ]
     },
     "execution_count": 63,
     "metadata": {},
     "output_type": "execute_result"
    }
   ],
   "source": [
    "#purchase count, avg pur price, total pur price, total pur valu, avg total pur per person,, gender\n",
    "#count total purchases by gender\n",
    "purchase_count = gender_stats[\"Purchase ID\"].count()\n",
    "\n",
    "#avg purchase price by gender\n",
    "avg_purchase = gender_stats[\"Price\"].mean()\n",
    "\n",
    "#total by gender\n",
    "total_purchase = gender_stats[\"Price\"].sum()\n",
    "\n",
    "#avg purchase per person\n",
    "avg_person = total_purchase / total_gender\n",
    "\n",
    "#datafram\n",
    "gender_dem_df = pd.DataFrame({\"Purchase Count\": purchase_count,\n",
    "                             \"Average Purchase Price\": avg_purchase,\n",
    "                             \"Total Purchase Value\": total_purchase,\n",
    "                             \"Avg Total Purchase per Person\": avg_person})\n",
    "\n",
    "gender_dem_df.index.name = \"Gender\"\n",
    "\n",
    "gender_dem_df.style.format({\"Total Purchase Value\":\"${:,.2f}\",\n",
    "                           \"Average Purchase Price\":\"${:,.2f}\",\n",
    "                           \"Avg Total Purchase per Person\":\"${:,.2f}\"})\n",
    "\n"
   ]
  },
  {
   "cell_type": "markdown",
   "metadata": {},
   "source": [
    "## Age Demographics"
   ]
  },
  {
   "cell_type": "markdown",
   "metadata": {},
   "source": [
    "* Establish bins for ages\n",
    "\n",
    "\n",
    "* Categorize the existing players using the age bins. Hint: use pd.cut()\n",
    "\n",
    "\n",
    "* Calculate the numbers and percentages by age group\n",
    "\n",
    "\n",
    "* Create a summary data frame to hold the results\n",
    "\n",
    "\n",
    "* Optional: round the percentage column to two decimal points\n",
    "\n",
    "\n",
    "* Display Age Demographics Table\n"
   ]
  },
  {
   "cell_type": "code",
   "execution_count": 64,
   "metadata": {},
   "outputs": [
    {
     "data": {
      "text/html": [
       "<style  type=\"text/css\" >\n",
       "</style><table id=\"T_de25d986_df22_11ea_834f_f01898f3f618\" ><thead>    <tr>        <th class=\"blank level0\" ></th>        <th class=\"col_heading level0 col0\" >Total Count</th>        <th class=\"col_heading level0 col1\" >Percentage of Players</th>    </tr></thead><tbody>\n",
       "                <tr>\n",
       "                        <th id=\"T_de25d986_df22_11ea_834f_f01898f3f618level0_row0\" class=\"row_heading level0 row0\" ><10</th>\n",
       "                        <td id=\"T_de25d986_df22_11ea_834f_f01898f3f618row0_col0\" class=\"data row0 col0\" >17</td>\n",
       "                        <td id=\"T_de25d986_df22_11ea_834f_f01898f3f618row0_col1\" class=\"data row0 col1\" >2.95%</td>\n",
       "            </tr>\n",
       "            <tr>\n",
       "                        <th id=\"T_de25d986_df22_11ea_834f_f01898f3f618level0_row1\" class=\"row_heading level0 row1\" >10-14</th>\n",
       "                        <td id=\"T_de25d986_df22_11ea_834f_f01898f3f618row1_col0\" class=\"data row1 col0\" >22</td>\n",
       "                        <td id=\"T_de25d986_df22_11ea_834f_f01898f3f618row1_col1\" class=\"data row1 col1\" >3.82%</td>\n",
       "            </tr>\n",
       "            <tr>\n",
       "                        <th id=\"T_de25d986_df22_11ea_834f_f01898f3f618level0_row2\" class=\"row_heading level0 row2\" >15-19</th>\n",
       "                        <td id=\"T_de25d986_df22_11ea_834f_f01898f3f618row2_col0\" class=\"data row2 col0\" >107</td>\n",
       "                        <td id=\"T_de25d986_df22_11ea_834f_f01898f3f618row2_col1\" class=\"data row2 col1\" >18.58%</td>\n",
       "            </tr>\n",
       "            <tr>\n",
       "                        <th id=\"T_de25d986_df22_11ea_834f_f01898f3f618level0_row3\" class=\"row_heading level0 row3\" >20-24</th>\n",
       "                        <td id=\"T_de25d986_df22_11ea_834f_f01898f3f618row3_col0\" class=\"data row3 col0\" >258</td>\n",
       "                        <td id=\"T_de25d986_df22_11ea_834f_f01898f3f618row3_col1\" class=\"data row3 col1\" >44.79%</td>\n",
       "            </tr>\n",
       "            <tr>\n",
       "                        <th id=\"T_de25d986_df22_11ea_834f_f01898f3f618level0_row4\" class=\"row_heading level0 row4\" >25-29</th>\n",
       "                        <td id=\"T_de25d986_df22_11ea_834f_f01898f3f618row4_col0\" class=\"data row4 col0\" >77</td>\n",
       "                        <td id=\"T_de25d986_df22_11ea_834f_f01898f3f618row4_col1\" class=\"data row4 col1\" >13.37%</td>\n",
       "            </tr>\n",
       "            <tr>\n",
       "                        <th id=\"T_de25d986_df22_11ea_834f_f01898f3f618level0_row5\" class=\"row_heading level0 row5\" >30-34</th>\n",
       "                        <td id=\"T_de25d986_df22_11ea_834f_f01898f3f618row5_col0\" class=\"data row5 col0\" >52</td>\n",
       "                        <td id=\"T_de25d986_df22_11ea_834f_f01898f3f618row5_col1\" class=\"data row5 col1\" >9.03%</td>\n",
       "            </tr>\n",
       "            <tr>\n",
       "                        <th id=\"T_de25d986_df22_11ea_834f_f01898f3f618level0_row6\" class=\"row_heading level0 row6\" >35-39</th>\n",
       "                        <td id=\"T_de25d986_df22_11ea_834f_f01898f3f618row6_col0\" class=\"data row6 col0\" >31</td>\n",
       "                        <td id=\"T_de25d986_df22_11ea_834f_f01898f3f618row6_col1\" class=\"data row6 col1\" >5.38%</td>\n",
       "            </tr>\n",
       "            <tr>\n",
       "                        <th id=\"T_de25d986_df22_11ea_834f_f01898f3f618level0_row7\" class=\"row_heading level0 row7\" >40+</th>\n",
       "                        <td id=\"T_de25d986_df22_11ea_834f_f01898f3f618row7_col0\" class=\"data row7 col0\" >12</td>\n",
       "                        <td id=\"T_de25d986_df22_11ea_834f_f01898f3f618row7_col1\" class=\"data row7 col1\" >2.08%</td>\n",
       "            </tr>\n",
       "    </tbody></table>"
      ],
      "text/plain": [
       "<pandas.io.formats.style.Styler at 0x7fcb1e60feb8>"
      ]
     },
     "execution_count": 64,
     "metadata": {},
     "output_type": "execute_result"
    }
   ],
   "source": [
    "#bins\n",
    "age_bins = [0, 9.90, 14.90, 19.90, 24.90, 29.90, 34.90, 39.90, 99999]\n",
    "age_groups = [\"<10\", \"10-14\", \"15-19\", \"20-24\", \"25-29\", \"30-34\", \"35-39\", \"40+\"]\n",
    "\n",
    "#categorize\n",
    "purchase_data_df[\"Age Group\"] = pd.cut(purchase_data_df[\"Age\"],age_bins, labels=age_groups)\n",
    "purchase_data_df\n",
    "\n",
    "#new dataframe grouped\n",
    "age_df = purchase_data_df.groupby(\"Age Group\")\n",
    "\n",
    "#count players\n",
    "total_count = age_df[\"SN\"].nunique()\n",
    "\n",
    "#percent of players\n",
    "age_percent = (total_count/total_players) * 100\n",
    "\n",
    "#format a new dataframe\n",
    "age_dem_df = pd.DataFrame({\"Total Count\":total_count, \"Percentage of Players\":age_percent})\n",
    "\n",
    "age_dem_df.index.name = None\n",
    "\n",
    "age_dem_df.style.format({\"Percentage of Players\": \"{:.2f}%\"})"
   ]
  },
  {
   "cell_type": "markdown",
   "metadata": {},
   "source": [
    "## Purchasing Analysis (Age)"
   ]
  },
  {
   "cell_type": "markdown",
   "metadata": {},
   "source": [
    "* Bin the purchase_data data frame by age\n",
    "\n",
    "\n",
    "* Run basic calculations to obtain purchase count, avg. purchase price, avg. purchase total per person etc. in the table below\n",
    "\n",
    "\n",
    "* Create a summary data frame to hold the results\n",
    "\n",
    "\n",
    "* Optional: give the displayed data cleaner formatting\n",
    "\n",
    "\n",
    "* Display the summary data frame"
   ]
  },
  {
   "cell_type": "code",
   "execution_count": 65,
   "metadata": {},
   "outputs": [
    {
     "data": {
      "text/html": [
       "<style  type=\"text/css\" >\n",
       "</style><table id=\"T_df47f8ba_df22_11ea_a0d7_f01898f3f618\" ><thead>    <tr>        <th class=\"blank level0\" ></th>        <th class=\"col_heading level0 col0\" >Purchase Count</th>        <th class=\"col_heading level0 col1\" >Average Purchase Price</th>        <th class=\"col_heading level0 col2\" >Total Purchase Value</th>        <th class=\"col_heading level0 col3\" >Avg Total Purchase per Person</th>    </tr>    <tr>        <th class=\"index_name level0\" >Age Ranges</th>        <th class=\"blank\" ></th>        <th class=\"blank\" ></th>        <th class=\"blank\" ></th>        <th class=\"blank\" ></th>    </tr></thead><tbody>\n",
       "                <tr>\n",
       "                        <th id=\"T_df47f8ba_df22_11ea_a0d7_f01898f3f618level0_row0\" class=\"row_heading level0 row0\" ><10</th>\n",
       "                        <td id=\"T_df47f8ba_df22_11ea_a0d7_f01898f3f618row0_col0\" class=\"data row0 col0\" >23</td>\n",
       "                        <td id=\"T_df47f8ba_df22_11ea_a0d7_f01898f3f618row0_col1\" class=\"data row0 col1\" >$3.35</td>\n",
       "                        <td id=\"T_df47f8ba_df22_11ea_a0d7_f01898f3f618row0_col2\" class=\"data row0 col2\" >$77.13</td>\n",
       "                        <td id=\"T_df47f8ba_df22_11ea_a0d7_f01898f3f618row0_col3\" class=\"data row0 col3\" >$4.54</td>\n",
       "            </tr>\n",
       "            <tr>\n",
       "                        <th id=\"T_df47f8ba_df22_11ea_a0d7_f01898f3f618level0_row1\" class=\"row_heading level0 row1\" >10-14</th>\n",
       "                        <td id=\"T_df47f8ba_df22_11ea_a0d7_f01898f3f618row1_col0\" class=\"data row1 col0\" >28</td>\n",
       "                        <td id=\"T_df47f8ba_df22_11ea_a0d7_f01898f3f618row1_col1\" class=\"data row1 col1\" >$2.96</td>\n",
       "                        <td id=\"T_df47f8ba_df22_11ea_a0d7_f01898f3f618row1_col2\" class=\"data row1 col2\" >$82.78</td>\n",
       "                        <td id=\"T_df47f8ba_df22_11ea_a0d7_f01898f3f618row1_col3\" class=\"data row1 col3\" >$3.76</td>\n",
       "            </tr>\n",
       "            <tr>\n",
       "                        <th id=\"T_df47f8ba_df22_11ea_a0d7_f01898f3f618level0_row2\" class=\"row_heading level0 row2\" >15-19</th>\n",
       "                        <td id=\"T_df47f8ba_df22_11ea_a0d7_f01898f3f618row2_col0\" class=\"data row2 col0\" >136</td>\n",
       "                        <td id=\"T_df47f8ba_df22_11ea_a0d7_f01898f3f618row2_col1\" class=\"data row2 col1\" >$3.04</td>\n",
       "                        <td id=\"T_df47f8ba_df22_11ea_a0d7_f01898f3f618row2_col2\" class=\"data row2 col2\" >$412.89</td>\n",
       "                        <td id=\"T_df47f8ba_df22_11ea_a0d7_f01898f3f618row2_col3\" class=\"data row2 col3\" >$3.86</td>\n",
       "            </tr>\n",
       "            <tr>\n",
       "                        <th id=\"T_df47f8ba_df22_11ea_a0d7_f01898f3f618level0_row3\" class=\"row_heading level0 row3\" >20-24</th>\n",
       "                        <td id=\"T_df47f8ba_df22_11ea_a0d7_f01898f3f618row3_col0\" class=\"data row3 col0\" >365</td>\n",
       "                        <td id=\"T_df47f8ba_df22_11ea_a0d7_f01898f3f618row3_col1\" class=\"data row3 col1\" >$3.05</td>\n",
       "                        <td id=\"T_df47f8ba_df22_11ea_a0d7_f01898f3f618row3_col2\" class=\"data row3 col2\" >$1,114.06</td>\n",
       "                        <td id=\"T_df47f8ba_df22_11ea_a0d7_f01898f3f618row3_col3\" class=\"data row3 col3\" >$4.32</td>\n",
       "            </tr>\n",
       "            <tr>\n",
       "                        <th id=\"T_df47f8ba_df22_11ea_a0d7_f01898f3f618level0_row4\" class=\"row_heading level0 row4\" >25-29</th>\n",
       "                        <td id=\"T_df47f8ba_df22_11ea_a0d7_f01898f3f618row4_col0\" class=\"data row4 col0\" >101</td>\n",
       "                        <td id=\"T_df47f8ba_df22_11ea_a0d7_f01898f3f618row4_col1\" class=\"data row4 col1\" >$2.90</td>\n",
       "                        <td id=\"T_df47f8ba_df22_11ea_a0d7_f01898f3f618row4_col2\" class=\"data row4 col2\" >$293.00</td>\n",
       "                        <td id=\"T_df47f8ba_df22_11ea_a0d7_f01898f3f618row4_col3\" class=\"data row4 col3\" >$3.81</td>\n",
       "            </tr>\n",
       "            <tr>\n",
       "                        <th id=\"T_df47f8ba_df22_11ea_a0d7_f01898f3f618level0_row5\" class=\"row_heading level0 row5\" >30-34</th>\n",
       "                        <td id=\"T_df47f8ba_df22_11ea_a0d7_f01898f3f618row5_col0\" class=\"data row5 col0\" >73</td>\n",
       "                        <td id=\"T_df47f8ba_df22_11ea_a0d7_f01898f3f618row5_col1\" class=\"data row5 col1\" >$2.93</td>\n",
       "                        <td id=\"T_df47f8ba_df22_11ea_a0d7_f01898f3f618row5_col2\" class=\"data row5 col2\" >$214.00</td>\n",
       "                        <td id=\"T_df47f8ba_df22_11ea_a0d7_f01898f3f618row5_col3\" class=\"data row5 col3\" >$4.12</td>\n",
       "            </tr>\n",
       "            <tr>\n",
       "                        <th id=\"T_df47f8ba_df22_11ea_a0d7_f01898f3f618level0_row6\" class=\"row_heading level0 row6\" >35-39</th>\n",
       "                        <td id=\"T_df47f8ba_df22_11ea_a0d7_f01898f3f618row6_col0\" class=\"data row6 col0\" >41</td>\n",
       "                        <td id=\"T_df47f8ba_df22_11ea_a0d7_f01898f3f618row6_col1\" class=\"data row6 col1\" >$3.60</td>\n",
       "                        <td id=\"T_df47f8ba_df22_11ea_a0d7_f01898f3f618row6_col2\" class=\"data row6 col2\" >$147.67</td>\n",
       "                        <td id=\"T_df47f8ba_df22_11ea_a0d7_f01898f3f618row6_col3\" class=\"data row6 col3\" >$4.76</td>\n",
       "            </tr>\n",
       "            <tr>\n",
       "                        <th id=\"T_df47f8ba_df22_11ea_a0d7_f01898f3f618level0_row7\" class=\"row_heading level0 row7\" >40+</th>\n",
       "                        <td id=\"T_df47f8ba_df22_11ea_a0d7_f01898f3f618row7_col0\" class=\"data row7 col0\" >13</td>\n",
       "                        <td id=\"T_df47f8ba_df22_11ea_a0d7_f01898f3f618row7_col1\" class=\"data row7 col1\" >$2.94</td>\n",
       "                        <td id=\"T_df47f8ba_df22_11ea_a0d7_f01898f3f618row7_col2\" class=\"data row7 col2\" >$38.24</td>\n",
       "                        <td id=\"T_df47f8ba_df22_11ea_a0d7_f01898f3f618row7_col3\" class=\"data row7 col3\" >$3.19</td>\n",
       "            </tr>\n",
       "    </tbody></table>"
      ],
      "text/plain": [
       "<pandas.io.formats.style.Styler at 0x7fcb1e5e3860>"
      ]
     },
     "execution_count": 65,
     "metadata": {},
     "output_type": "execute_result"
    }
   ],
   "source": [
    "#purchase count\n",
    "age_purchase_count = age_df[\"Purchase ID\"].count()\n",
    "\n",
    "#avg purchase price\n",
    "avg_price = age_df[\"Price\"].mean()\n",
    "\n",
    "#total purchase value\n",
    "total_value = age_df[\"Price\"].sum()\n",
    "\n",
    "#avg total purchase per person\n",
    "avg_pperson = total_value / total_count\n",
    "\n",
    "#dataframe\n",
    "age_dem_df = pd.DataFrame({\"Purchase Count\": age_purchase_count,\n",
    "                             \"Average Purchase Price\": avg_price,\n",
    "                             \"Total Purchase Value\": total_value,\n",
    "                             \"Avg Total Purchase per Person\": avg_pperson})\n",
    "\n",
    "age_dem_df.index.name = \"Age Ranges\"\n",
    "\n",
    "age_dem_df.style.format({\"Total Purchase Value\":\"${:,.2f}\",\n",
    "                           \"Average Purchase Price\":\"${:,.2f}\",\n",
    "                           \"Avg Total Purchase per Person\":\"${:,.2f}\"})\n"
   ]
  },
  {
   "cell_type": "markdown",
   "metadata": {},
   "source": [
    "## Top Spenders"
   ]
  },
  {
   "cell_type": "markdown",
   "metadata": {},
   "source": [
    "* Run basic calculations to obtain the results in the table below\n",
    "\n",
    "\n",
    "* Create a summary data frame to hold the results\n",
    "\n",
    "\n",
    "* Sort the total purchase value column in descending order\n",
    "\n",
    "\n",
    "* Optional: give the displayed data cleaner formatting\n",
    "\n",
    "\n",
    "* Display a preview of the summary data frame\n",
    "\n"
   ]
  },
  {
   "cell_type": "code",
   "execution_count": 66,
   "metadata": {},
   "outputs": [
    {
     "data": {
      "text/html": [
       "<style  type=\"text/css\" >\n",
       "</style><table id=\"T_e006643a_df22_11ea_8f58_f01898f3f618\" ><thead>    <tr>        <th class=\"blank level0\" ></th>        <th class=\"col_heading level0 col0\" >Purchase Count</th>        <th class=\"col_heading level0 col1\" >Average Purchase Price</th>        <th class=\"col_heading level0 col2\" >Total Purchase Value</th>    </tr>    <tr>        <th class=\"index_name level0\" >SN</th>        <th class=\"blank\" ></th>        <th class=\"blank\" ></th>        <th class=\"blank\" ></th>    </tr></thead><tbody>\n",
       "                <tr>\n",
       "                        <th id=\"T_e006643a_df22_11ea_8f58_f01898f3f618level0_row0\" class=\"row_heading level0 row0\" >Lisosia93</th>\n",
       "                        <td id=\"T_e006643a_df22_11ea_8f58_f01898f3f618row0_col0\" class=\"data row0 col0\" >5</td>\n",
       "                        <td id=\"T_e006643a_df22_11ea_8f58_f01898f3f618row0_col1\" class=\"data row0 col1\" >$3.79</td>\n",
       "                        <td id=\"T_e006643a_df22_11ea_8f58_f01898f3f618row0_col2\" class=\"data row0 col2\" >$18.96</td>\n",
       "            </tr>\n",
       "            <tr>\n",
       "                        <th id=\"T_e006643a_df22_11ea_8f58_f01898f3f618level0_row1\" class=\"row_heading level0 row1\" >Idastidru52</th>\n",
       "                        <td id=\"T_e006643a_df22_11ea_8f58_f01898f3f618row1_col0\" class=\"data row1 col0\" >4</td>\n",
       "                        <td id=\"T_e006643a_df22_11ea_8f58_f01898f3f618row1_col1\" class=\"data row1 col1\" >$3.86</td>\n",
       "                        <td id=\"T_e006643a_df22_11ea_8f58_f01898f3f618row1_col2\" class=\"data row1 col2\" >$15.45</td>\n",
       "            </tr>\n",
       "            <tr>\n",
       "                        <th id=\"T_e006643a_df22_11ea_8f58_f01898f3f618level0_row2\" class=\"row_heading level0 row2\" >Chamjask73</th>\n",
       "                        <td id=\"T_e006643a_df22_11ea_8f58_f01898f3f618row2_col0\" class=\"data row2 col0\" >3</td>\n",
       "                        <td id=\"T_e006643a_df22_11ea_8f58_f01898f3f618row2_col1\" class=\"data row2 col1\" >$4.61</td>\n",
       "                        <td id=\"T_e006643a_df22_11ea_8f58_f01898f3f618row2_col2\" class=\"data row2 col2\" >$13.83</td>\n",
       "            </tr>\n",
       "            <tr>\n",
       "                        <th id=\"T_e006643a_df22_11ea_8f58_f01898f3f618level0_row3\" class=\"row_heading level0 row3\" >Iral74</th>\n",
       "                        <td id=\"T_e006643a_df22_11ea_8f58_f01898f3f618row3_col0\" class=\"data row3 col0\" >4</td>\n",
       "                        <td id=\"T_e006643a_df22_11ea_8f58_f01898f3f618row3_col1\" class=\"data row3 col1\" >$3.40</td>\n",
       "                        <td id=\"T_e006643a_df22_11ea_8f58_f01898f3f618row3_col2\" class=\"data row3 col2\" >$13.62</td>\n",
       "            </tr>\n",
       "            <tr>\n",
       "                        <th id=\"T_e006643a_df22_11ea_8f58_f01898f3f618level0_row4\" class=\"row_heading level0 row4\" >Iskadarya95</th>\n",
       "                        <td id=\"T_e006643a_df22_11ea_8f58_f01898f3f618row4_col0\" class=\"data row4 col0\" >3</td>\n",
       "                        <td id=\"T_e006643a_df22_11ea_8f58_f01898f3f618row4_col1\" class=\"data row4 col1\" >$4.37</td>\n",
       "                        <td id=\"T_e006643a_df22_11ea_8f58_f01898f3f618row4_col2\" class=\"data row4 col2\" >$13.10</td>\n",
       "            </tr>\n",
       "    </tbody></table>"
      ],
      "text/plain": [
       "<pandas.io.formats.style.Styler at 0x7fcb1dcd3da0>"
      ]
     },
     "execution_count": 66,
     "metadata": {},
     "output_type": "execute_result"
    }
   ],
   "source": [
    "#group by screen name\n",
    "spend_stats = purchase_data_df.groupby(\"SN\")\n",
    "\n",
    "#purchase count\n",
    "pc_spender = spend_stats[\"Purchase ID\"].count()\n",
    "\n",
    "#avg purchase price\n",
    "avg_spender = spend_stats[\"Price\"].mean()\n",
    "\n",
    "#total purchase value\n",
    "total_spender = spend_stats[\"Price\"].sum()\n",
    "\n",
    "#dataframe\n",
    "top_spenders_df = pd.DataFrame({\"Purchase Count\": pc_spender,\n",
    "                               \"Average Purchase Price\": avg_spender,\n",
    "                               \"Total Purchase Value\":total_spender})\n",
    "\n",
    "format_spend = top_spenders_df.sort_values([\"Total Purchase Value\"], ascending=False).head()\n",
    "format_spend.style.format({\"Average Purchase Price\":\"${:,.2f}\",\n",
    "                          \"Total Purchase Value\":\"${:,.2f}\"})"
   ]
  },
  {
   "cell_type": "markdown",
   "metadata": {},
   "source": [
    "## Most Popular Items"
   ]
  },
  {
   "cell_type": "markdown",
   "metadata": {},
   "source": [
    "* Retrieve the Item ID, Item Name, and Item Price columns\n",
    "\n",
    "\n",
    "* Group by Item ID and Item Name. Perform calculations to obtain purchase count, item price, and total purchase value\n",
    "\n",
    "\n",
    "* Create a summary data frame to hold the results\n",
    "\n",
    "\n",
    "* Sort the purchase count column in descending order\n",
    "\n",
    "\n",
    "* Optional: give the displayed data cleaner formatting\n",
    "\n",
    "\n",
    "* Display a preview of the summary data frame\n",
    "\n"
   ]
  },
  {
   "cell_type": "code",
   "execution_count": 67,
   "metadata": {},
   "outputs": [
    {
     "data": {
      "text/html": [
       "<style  type=\"text/css\" >\n",
       "</style><table id=\"T_e0c1d422_df22_11ea_9010_f01898f3f618\" ><thead>    <tr>        <th class=\"blank\" ></th>        <th class=\"blank level0\" ></th>        <th class=\"col_heading level0 col0\" >Purchase Count</th>        <th class=\"col_heading level0 col1\" >Item Price</th>        <th class=\"col_heading level0 col2\" >Total Purchase Value</th>    </tr>    <tr>        <th class=\"index_name level0\" >Item ID</th>        <th class=\"index_name level1\" >Item Name</th>        <th class=\"blank\" ></th>        <th class=\"blank\" ></th>        <th class=\"blank\" ></th>    </tr></thead><tbody>\n",
       "                <tr>\n",
       "                        <th id=\"T_e0c1d422_df22_11ea_9010_f01898f3f618level0_row0\" class=\"row_heading level0 row0\" >92</th>\n",
       "                        <th id=\"T_e0c1d422_df22_11ea_9010_f01898f3f618level1_row0\" class=\"row_heading level1 row0\" >Final Critic</th>\n",
       "                        <td id=\"T_e0c1d422_df22_11ea_9010_f01898f3f618row0_col0\" class=\"data row0 col0\" >13</td>\n",
       "                        <td id=\"T_e0c1d422_df22_11ea_9010_f01898f3f618row0_col1\" class=\"data row0 col1\" >$4.61</td>\n",
       "                        <td id=\"T_e0c1d422_df22_11ea_9010_f01898f3f618row0_col2\" class=\"data row0 col2\" >$59.99</td>\n",
       "            </tr>\n",
       "            <tr>\n",
       "                        <th id=\"T_e0c1d422_df22_11ea_9010_f01898f3f618level0_row1\" class=\"row_heading level0 row1\" >178</th>\n",
       "                        <th id=\"T_e0c1d422_df22_11ea_9010_f01898f3f618level1_row1\" class=\"row_heading level1 row1\" >Oathbreaker, Last Hope of the Breaking Storm</th>\n",
       "                        <td id=\"T_e0c1d422_df22_11ea_9010_f01898f3f618row1_col0\" class=\"data row1 col0\" >12</td>\n",
       "                        <td id=\"T_e0c1d422_df22_11ea_9010_f01898f3f618row1_col1\" class=\"data row1 col1\" >$4.23</td>\n",
       "                        <td id=\"T_e0c1d422_df22_11ea_9010_f01898f3f618row1_col2\" class=\"data row1 col2\" >$50.76</td>\n",
       "            </tr>\n",
       "            <tr>\n",
       "                        <th id=\"T_e0c1d422_df22_11ea_9010_f01898f3f618level0_row2\" class=\"row_heading level0 row2\" >145</th>\n",
       "                        <th id=\"T_e0c1d422_df22_11ea_9010_f01898f3f618level1_row2\" class=\"row_heading level1 row2\" >Fiery Glass Crusader</th>\n",
       "                        <td id=\"T_e0c1d422_df22_11ea_9010_f01898f3f618row2_col0\" class=\"data row2 col0\" >9</td>\n",
       "                        <td id=\"T_e0c1d422_df22_11ea_9010_f01898f3f618row2_col1\" class=\"data row2 col1\" >$4.58</td>\n",
       "                        <td id=\"T_e0c1d422_df22_11ea_9010_f01898f3f618row2_col2\" class=\"data row2 col2\" >$41.22</td>\n",
       "            </tr>\n",
       "            <tr>\n",
       "                        <th id=\"T_e0c1d422_df22_11ea_9010_f01898f3f618level0_row3\" class=\"row_heading level0 row3\" >132</th>\n",
       "                        <th id=\"T_e0c1d422_df22_11ea_9010_f01898f3f618level1_row3\" class=\"row_heading level1 row3\" >Persuasion</th>\n",
       "                        <td id=\"T_e0c1d422_df22_11ea_9010_f01898f3f618row3_col0\" class=\"data row3 col0\" >9</td>\n",
       "                        <td id=\"T_e0c1d422_df22_11ea_9010_f01898f3f618row3_col1\" class=\"data row3 col1\" >$3.22</td>\n",
       "                        <td id=\"T_e0c1d422_df22_11ea_9010_f01898f3f618row3_col2\" class=\"data row3 col2\" >$28.99</td>\n",
       "            </tr>\n",
       "            <tr>\n",
       "                        <th id=\"T_e0c1d422_df22_11ea_9010_f01898f3f618level0_row4\" class=\"row_heading level0 row4\" >108</th>\n",
       "                        <th id=\"T_e0c1d422_df22_11ea_9010_f01898f3f618level1_row4\" class=\"row_heading level1 row4\" >Extraction, Quickblade Of Trembling Hands</th>\n",
       "                        <td id=\"T_e0c1d422_df22_11ea_9010_f01898f3f618row4_col0\" class=\"data row4 col0\" >9</td>\n",
       "                        <td id=\"T_e0c1d422_df22_11ea_9010_f01898f3f618row4_col1\" class=\"data row4 col1\" >$3.53</td>\n",
       "                        <td id=\"T_e0c1d422_df22_11ea_9010_f01898f3f618row4_col2\" class=\"data row4 col2\" >$31.77</td>\n",
       "            </tr>\n",
       "    </tbody></table>"
      ],
      "text/plain": [
       "<pandas.io.formats.style.Styler at 0x7fcb1dcf3160>"
      ]
     },
     "execution_count": 67,
     "metadata": {},
     "output_type": "execute_result"
    }
   ],
   "source": [
    "pop_items = purchase_data_df[[\"Item ID\", \"Item Name\", \"Price\"]]\n",
    "\n",
    "#group\n",
    "item_stats = pop_items.groupby([\"Item ID\",\"Item Name\"])\n",
    "\n",
    "#count \n",
    "item_count = item_stats[\"Price\"].count()\n",
    "\n",
    "#total value\n",
    "item_value = item_stats[\"Price\"].sum()\n",
    "\n",
    "#item price\n",
    "item_price = item_value / item_count\n",
    "\n",
    "\n",
    "#dataframe\n",
    "pop_items_df = pd.DataFrame({\"Purchase Count\":item_count,\n",
    "                            \"Item Price\":item_price,\n",
    "                            \"Total Purchase Value\":item_value})\n",
    "pop_format = pop_items_df.sort_values([\"Purchase Count\"],ascending=False).head()\n",
    "pop_format.style.format({\"Item Price\":\"${:,.2f}\",\n",
    "                        \"Total Purchase Value\":\"${:,.2f}\"})"
   ]
  },
  {
   "cell_type": "code",
   "execution_count": 68,
   "metadata": {},
   "outputs": [],
   "source": [
    "##Most Profitable Items"
   ]
  },
  {
   "cell_type": "markdown",
   "metadata": {},
   "source": [
    "* Sort the above table by total purchase value in descending order\n",
    "\n",
    "\n",
    "* Optional: give the displayed data cleaner formatting\n",
    "\n",
    "\n",
    "* Display a preview of the data frame\n",
    "\n"
   ]
  },
  {
   "cell_type": "code",
   "execution_count": 69,
   "metadata": {
    "scrolled": true
   },
   "outputs": [
    {
     "data": {
      "text/html": [
       "<style  type=\"text/css\" >\n",
       "</style><table id=\"T_e17bc9b8_df22_11ea_94fb_f01898f3f618\" ><thead>    <tr>        <th class=\"blank\" ></th>        <th class=\"blank level0\" ></th>        <th class=\"col_heading level0 col0\" >Purchase Count</th>        <th class=\"col_heading level0 col1\" >Item Price</th>        <th class=\"col_heading level0 col2\" >Total Purchase Value</th>    </tr>    <tr>        <th class=\"index_name level0\" >Item ID</th>        <th class=\"index_name level1\" >Item Name</th>        <th class=\"blank\" ></th>        <th class=\"blank\" ></th>        <th class=\"blank\" ></th>    </tr></thead><tbody>\n",
       "                <tr>\n",
       "                        <th id=\"T_e17bc9b8_df22_11ea_94fb_f01898f3f618level0_row0\" class=\"row_heading level0 row0\" >92</th>\n",
       "                        <th id=\"T_e17bc9b8_df22_11ea_94fb_f01898f3f618level1_row0\" class=\"row_heading level1 row0\" >Final Critic</th>\n",
       "                        <td id=\"T_e17bc9b8_df22_11ea_94fb_f01898f3f618row0_col0\" class=\"data row0 col0\" >13</td>\n",
       "                        <td id=\"T_e17bc9b8_df22_11ea_94fb_f01898f3f618row0_col1\" class=\"data row0 col1\" >$4.61</td>\n",
       "                        <td id=\"T_e17bc9b8_df22_11ea_94fb_f01898f3f618row0_col2\" class=\"data row0 col2\" >$59.99</td>\n",
       "            </tr>\n",
       "            <tr>\n",
       "                        <th id=\"T_e17bc9b8_df22_11ea_94fb_f01898f3f618level0_row1\" class=\"row_heading level0 row1\" >178</th>\n",
       "                        <th id=\"T_e17bc9b8_df22_11ea_94fb_f01898f3f618level1_row1\" class=\"row_heading level1 row1\" >Oathbreaker, Last Hope of the Breaking Storm</th>\n",
       "                        <td id=\"T_e17bc9b8_df22_11ea_94fb_f01898f3f618row1_col0\" class=\"data row1 col0\" >12</td>\n",
       "                        <td id=\"T_e17bc9b8_df22_11ea_94fb_f01898f3f618row1_col1\" class=\"data row1 col1\" >$4.23</td>\n",
       "                        <td id=\"T_e17bc9b8_df22_11ea_94fb_f01898f3f618row1_col2\" class=\"data row1 col2\" >$50.76</td>\n",
       "            </tr>\n",
       "            <tr>\n",
       "                        <th id=\"T_e17bc9b8_df22_11ea_94fb_f01898f3f618level0_row2\" class=\"row_heading level0 row2\" >145</th>\n",
       "                        <th id=\"T_e17bc9b8_df22_11ea_94fb_f01898f3f618level1_row2\" class=\"row_heading level1 row2\" >Fiery Glass Crusader</th>\n",
       "                        <td id=\"T_e17bc9b8_df22_11ea_94fb_f01898f3f618row2_col0\" class=\"data row2 col0\" >9</td>\n",
       "                        <td id=\"T_e17bc9b8_df22_11ea_94fb_f01898f3f618row2_col1\" class=\"data row2 col1\" >$4.58</td>\n",
       "                        <td id=\"T_e17bc9b8_df22_11ea_94fb_f01898f3f618row2_col2\" class=\"data row2 col2\" >$41.22</td>\n",
       "            </tr>\n",
       "            <tr>\n",
       "                        <th id=\"T_e17bc9b8_df22_11ea_94fb_f01898f3f618level0_row3\" class=\"row_heading level0 row3\" >132</th>\n",
       "                        <th id=\"T_e17bc9b8_df22_11ea_94fb_f01898f3f618level1_row3\" class=\"row_heading level1 row3\" >Persuasion</th>\n",
       "                        <td id=\"T_e17bc9b8_df22_11ea_94fb_f01898f3f618row3_col0\" class=\"data row3 col0\" >9</td>\n",
       "                        <td id=\"T_e17bc9b8_df22_11ea_94fb_f01898f3f618row3_col1\" class=\"data row3 col1\" >$3.22</td>\n",
       "                        <td id=\"T_e17bc9b8_df22_11ea_94fb_f01898f3f618row3_col2\" class=\"data row3 col2\" >$28.99</td>\n",
       "            </tr>\n",
       "            <tr>\n",
       "                        <th id=\"T_e17bc9b8_df22_11ea_94fb_f01898f3f618level0_row4\" class=\"row_heading level0 row4\" >108</th>\n",
       "                        <th id=\"T_e17bc9b8_df22_11ea_94fb_f01898f3f618level1_row4\" class=\"row_heading level1 row4\" >Extraction, Quickblade Of Trembling Hands</th>\n",
       "                        <td id=\"T_e17bc9b8_df22_11ea_94fb_f01898f3f618row4_col0\" class=\"data row4 col0\" >9</td>\n",
       "                        <td id=\"T_e17bc9b8_df22_11ea_94fb_f01898f3f618row4_col1\" class=\"data row4 col1\" >$3.53</td>\n",
       "                        <td id=\"T_e17bc9b8_df22_11ea_94fb_f01898f3f618row4_col2\" class=\"data row4 col2\" >$31.77</td>\n",
       "            </tr>\n",
       "    </tbody></table>"
      ],
      "text/plain": [
       "<pandas.io.formats.style.Styler at 0x7fcb1e817588>"
      ]
     },
     "execution_count": 69,
     "metadata": {},
     "output_type": "execute_result"
    }
   ],
   "source": [
    "pop_format = pop_items_df.sort_values([\"Purchase Count\"],ascending=False).head()\n",
    "pop_format.style.format({\"Item Price\":\"${:,.2f}\",\n",
    "                        \"Total Purchase Value\":\"${:,.2f}\"})"
   ]
  },
  {
   "cell_type": "code",
   "execution_count": 70,
   "metadata": {},
   "outputs": [
    {
     "data": {
      "text/plain": [
       "179"
      ]
     },
     "execution_count": 70,
     "metadata": {},
     "output_type": "execute_result"
    }
   ],
   "source": [
    "#how many items for txt file\n",
    "id_data= len(purchase_data_df[\"Item ID\"].value_counts())\n",
    "id_data"
   ]
  },
  {
   "cell_type": "code",
   "execution_count": null,
   "metadata": {},
   "outputs": [],
   "source": []
  }
 ],
 "metadata": {
  "anaconda-cloud": {},
  "kernel_info": {
   "name": "python3"
  },
  "kernelspec": {
   "display_name": "Python 3",
   "language": "python",
   "name": "python3"
  },
  "language_info": {
   "codemirror_mode": {
    "name": "ipython",
    "version": 3
   },
   "file_extension": ".py",
   "mimetype": "text/x-python",
   "name": "python",
   "nbconvert_exporter": "python",
   "pygments_lexer": "ipython3",
   "version": "3.6.10"
  },
  "latex_envs": {
   "LaTeX_envs_menu_present": true,
   "autoclose": false,
   "autocomplete": true,
   "bibliofile": "biblio.bib",
   "cite_by": "apalike",
   "current_citInitial": 1,
   "eqLabelWithNumbers": true,
   "eqNumInitial": 1,
   "hotkeys": {
    "equation": "Ctrl-E",
    "itemize": "Ctrl-I"
   },
   "labels_anchors": false,
   "latex_user_defs": false,
   "report_style_numbering": false,
   "user_envs_cfg": false
  },
  "nteract": {
   "version": "0.2.0"
  }
 },
 "nbformat": 4,
 "nbformat_minor": 2
}
